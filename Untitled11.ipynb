{
 "cells": [
  {
   "cell_type": "code",
   "execution_count": 15,
   "metadata": {},
   "outputs": [
    {
     "name": "stdout",
     "output_type": "stream",
     "text": [
      "enter your marks of urdu out of 20 =10\n",
      "enter your marks of Maths out of 20  =10\n",
      "enter your marks of English out of 20 =10\n",
      "enter your marks of Chemistry out of 20 =10\n",
      "enter your marks of Physics out of 20 =10\n",
      "your grade is C\n"
     ]
    }
   ],
   "source": [
    "ur = int(input(\"enter your marks of urdu out of 20 =\"))\n",
    "ma = int(input(\"enter your marks of Maths out of 20  =\"))\n",
    "en = int(input(\"enter your marks of English out of 20 =\"))\n",
    "ch = int(input(\"enter your marks of Chemistry out of 20 =\"))\n",
    "ph = int(input(\"enter your marks of Physics out of 20 =\"))\n",
    "total = ur + ma + en + ch + ph;\n",
    "\n",
    "if total >=80 and total<=100 :\n",
    "      print(\"your grade is A+\")\n",
    "elif total >=70 and total<80 :\n",
    "      print(\"your grade is A\")\n",
    "elif total >=60 and total<70:\n",
    "      print(\"your grade is B\")\n",
    "elif total >=50 and total<60  :\n",
    "      print(\"your grade is C\")\n",
    "elif total >=40 and  total<50 :\n",
    "      print(\"your grade is D\")\n",
    "elif total <40 :\n",
    "      print(\"        your grade is F\")\n",
    "else :\n",
    "     print(\"you have entered the wrong marks\")"
   ]
  },
  {
   "cell_type": "markdown",
   "metadata": {},
   "source": [
    "### "
   ]
  },
  {
   "cell_type": "code",
   "execution_count": 17,
   "metadata": {},
   "outputs": [
    {
     "name": "stdout",
     "output_type": "stream",
     "text": [
      "please enter a number6\n",
      "number is even\n"
     ]
    }
   ],
   "source": [
    "n = int(input(\"please enter a number\"))\n",
    "if n%2==0 :\n",
    "    print(\"number is even\")\n",
    "else :\n",
    "    print(\"number is odd\")"
   ]
  },
  {
   "cell_type": "code",
   "execution_count": 24,
   "metadata": {},
   "outputs": [
    {
     "name": "stdout",
     "output_type": "stream",
     "text": [
      "lenght of the array is  7\n"
     ]
    }
   ],
   "source": [
    "l = [1,2,3,4,5,6,5]\n",
    "print(\"lenght of the array is \",len(l))"
   ]
  },
  {
   "cell_type": "code",
   "execution_count": 25,
   "metadata": {},
   "outputs": [
    {
     "name": "stdout",
     "output_type": "stream",
     "text": [
      "1\n",
      "2\n",
      "3\n",
      "4\n",
      "5\n",
      "6\n",
      "5\n"
     ]
    }
   ],
   "source": [
    "l = [1,2,3,4,5,6,5]\n",
    "for x in l :\n",
    "    print(x)"
   ]
  },
  {
   "cell_type": "code",
   "execution_count": 26,
   "metadata": {},
   "outputs": [
    {
     "name": "stdout",
     "output_type": "stream",
     "text": [
      "your highest number in array is  44\n"
     ]
    }
   ],
   "source": [
    "l = [5,6,8,41,6,44]\n",
    "print(\"your highest number in array is \",max(l));"
   ]
  },
  {
   "cell_type": "code",
   "execution_count": 27,
   "metadata": {},
   "outputs": [
    {
     "name": "stdout",
     "output_type": "stream",
     "text": [
      "110\n"
     ]
    }
   ],
   "source": [
    "s = 0\n",
    "l = [5,6,8,41,6,44]\n",
    "for x in l:\n",
    "    s = s + x\n",
    "print(s)"
   ]
  },
  {
   "cell_type": "code",
   "execution_count": 31,
   "metadata": {},
   "outputs": [
    {
     "name": "stdout",
     "output_type": "stream",
     "text": [
      "1\n",
      "1\n",
      "2\n",
      "3\n"
     ]
    }
   ],
   "source": [
    "s = 0\n",
    "a = [1,1,2,3,5,8,13,21,34,55,89]\n",
    "for x in a:\n",
    "    if x < 5 :\n",
    "      print(x)"
   ]
  },
  {
   "cell_type": "code",
   "execution_count": null,
   "metadata": {},
   "outputs": [],
   "source": []
  }
 ],
 "metadata": {
  "kernelspec": {
   "display_name": "Python 3",
   "language": "python",
   "name": "python3"
  },
  "language_info": {
   "codemirror_mode": {
    "name": "ipython",
    "version": 3
   },
   "file_extension": ".py",
   "mimetype": "text/x-python",
   "name": "python",
   "nbconvert_exporter": "python",
   "pygments_lexer": "ipython3",
   "version": "3.7.4"
  }
 },
 "nbformat": 4,
 "nbformat_minor": 2
}
